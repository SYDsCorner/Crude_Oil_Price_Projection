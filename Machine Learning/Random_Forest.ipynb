{
 "cells": [
  {
   "cell_type": "code",
   "execution_count": 1,
   "metadata": {
    "id": "qAfrVIDXJuFP"
   },
   "outputs": [],
   "source": [
    "%matplotlib inline"
   ]
  },
  {
   "cell_type": "code",
   "execution_count": 2,
   "metadata": {
    "id": "SMBuALKwttIU"
   },
   "outputs": [],
   "source": [
    "import warnings\n",
    "warnings.filterwarnings('ignore')"
   ]
  },
  {
   "cell_type": "code",
   "execution_count": 3,
   "metadata": {
    "id": "wZjz9C6CO1LF"
   },
   "outputs": [],
   "source": [
    "# Initial imports\n",
    "import pydot\n",
    "import numpy as np\n",
    "import pandas as pd\n",
    "import datetime as dt\n",
    "import matplotlib.pyplot as plt\n",
    "from sklearn import metrics\n",
    "from sklearn.tree import export_graphviz\n",
    "from sklearn.preprocessing import StandardScaler\n",
    "from sklearn.ensemble import RandomForestRegressor\n",
    "from sklearn.model_selection import train_test_split"
   ]
  },
  {
   "cell_type": "code",
   "execution_count": 4,
   "metadata": {
    "colab": {
     "base_uri": "https://localhost:8080/",
     "height": 372
    },
    "id": "6WMH7avhO5LD",
    "outputId": "bd346710-0410-4967-9f45-770edb8b57eb"
   },
   "outputs": [
    {
     "data": {
      "text/html": [
       "\n",
       "  <div id=\"df-2b2688cc-65cc-4cc2-9af5-bc643738d7fd\">\n",
       "    <div class=\"colab-df-container\">\n",
       "      <div>\n",
       "<style scoped>\n",
       "    .dataframe tbody tr th:only-of-type {\n",
       "        vertical-align: middle;\n",
       "    }\n",
       "\n",
       "    .dataframe tbody tr th {\n",
       "        vertical-align: top;\n",
       "    }\n",
       "\n",
       "    .dataframe thead th {\n",
       "        text-align: right;\n",
       "    }\n",
       "</style>\n",
       "<table border=\"1\" class=\"dataframe\">\n",
       "  <thead>\n",
       "    <tr style=\"text-align: right;\">\n",
       "      <th></th>\n",
       "      <th>Date</th>\n",
       "      <th>U.S. Field Production of Crude Oil (1k Bar.)</th>\n",
       "      <th>Product Supplied of Crude Oil and Petroleum Products (1k Bar.)</th>\n",
       "      <th>Gross Inputs to Refineries (1k Bar./Day)</th>\n",
       "      <th>Operable Crude Oil Distillation Capacity (1k Bar./Calendar Day)</th>\n",
       "      <th>Operating Crude Oil Distillation Capacity (1k Bar./Day)</th>\n",
       "      <th>Idle Crude Oil Distillation Capacity (1k Bar./Day)</th>\n",
       "      <th>Percent Utilization of Refinery Operable Capacity</th>\n",
       "      <th>Cushing, OK Crude Oil Future Contract ($/Bar.)</th>\n",
       "      <th>Cushing, OK WTI Spot Price FOB ($/Bar.)</th>\n",
       "    </tr>\n",
       "  </thead>\n",
       "  <tbody>\n",
       "    <tr>\n",
       "      <th>0</th>\n",
       "      <td>Apr-1986</td>\n",
       "      <td>265917</td>\n",
       "      <td>478339</td>\n",
       "      <td>12603</td>\n",
       "      <td>15473</td>\n",
       "      <td>14550</td>\n",
       "      <td>923</td>\n",
       "      <td>81.5</td>\n",
       "      <td>12.8</td>\n",
       "      <td>12.8</td>\n",
       "    </tr>\n",
       "    <tr>\n",
       "      <th>1</th>\n",
       "      <td>Apr-1987</td>\n",
       "      <td>254945</td>\n",
       "      <td>495706</td>\n",
       "      <td>12637</td>\n",
       "      <td>15565</td>\n",
       "      <td>14870</td>\n",
       "      <td>695</td>\n",
       "      <td>81.2</td>\n",
       "      <td>18.6</td>\n",
       "      <td>18.7</td>\n",
       "    </tr>\n",
       "    <tr>\n",
       "      <th>2</th>\n",
       "      <td>Apr-1988</td>\n",
       "      <td>248629</td>\n",
       "      <td>496816</td>\n",
       "      <td>13346</td>\n",
       "      <td>15888</td>\n",
       "      <td>14986</td>\n",
       "      <td>902</td>\n",
       "      <td>84.0</td>\n",
       "      <td>17.9</td>\n",
       "      <td>17.9</td>\n",
       "    </tr>\n",
       "    <tr>\n",
       "      <th>3</th>\n",
       "      <td>Apr-1989</td>\n",
       "      <td>233147</td>\n",
       "      <td>498719</td>\n",
       "      <td>13123</td>\n",
       "      <td>15687</td>\n",
       "      <td>14944</td>\n",
       "      <td>743</td>\n",
       "      <td>83.7</td>\n",
       "      <td>20.9</td>\n",
       "      <td>21.1</td>\n",
       "    </tr>\n",
       "    <tr>\n",
       "      <th>4</th>\n",
       "      <td>Apr-1990</td>\n",
       "      <td>222215</td>\n",
       "      <td>503351</td>\n",
       "      <td>13250</td>\n",
       "      <td>15582</td>\n",
       "      <td>14827</td>\n",
       "      <td>754</td>\n",
       "      <td>85.0</td>\n",
       "      <td>18.6</td>\n",
       "      <td>18.4</td>\n",
       "    </tr>\n",
       "  </tbody>\n",
       "</table>\n",
       "</div>\n",
       "      <button class=\"colab-df-convert\" onclick=\"convertToInteractive('df-2b2688cc-65cc-4cc2-9af5-bc643738d7fd')\"\n",
       "              title=\"Convert this dataframe to an interactive table.\"\n",
       "              style=\"display:none;\">\n",
       "        \n",
       "  <svg xmlns=\"http://www.w3.org/2000/svg\" height=\"24px\"viewBox=\"0 0 24 24\"\n",
       "       width=\"24px\">\n",
       "    <path d=\"M0 0h24v24H0V0z\" fill=\"none\"/>\n",
       "    <path d=\"M18.56 5.44l.94 2.06.94-2.06 2.06-.94-2.06-.94-.94-2.06-.94 2.06-2.06.94zm-11 1L8.5 8.5l.94-2.06 2.06-.94-2.06-.94L8.5 2.5l-.94 2.06-2.06.94zm10 10l.94 2.06.94-2.06 2.06-.94-2.06-.94-.94-2.06-.94 2.06-2.06.94z\"/><path d=\"M17.41 7.96l-1.37-1.37c-.4-.4-.92-.59-1.43-.59-.52 0-1.04.2-1.43.59L10.3 9.45l-7.72 7.72c-.78.78-.78 2.05 0 2.83L4 21.41c.39.39.9.59 1.41.59.51 0 1.02-.2 1.41-.59l7.78-7.78 2.81-2.81c.8-.78.8-2.07 0-2.86zM5.41 20L4 18.59l7.72-7.72 1.47 1.35L5.41 20z\"/>\n",
       "  </svg>\n",
       "      </button>\n",
       "      \n",
       "  <style>\n",
       "    .colab-df-container {\n",
       "      display:flex;\n",
       "      flex-wrap:wrap;\n",
       "      gap: 12px;\n",
       "    }\n",
       "\n",
       "    .colab-df-convert {\n",
       "      background-color: #E8F0FE;\n",
       "      border: none;\n",
       "      border-radius: 50%;\n",
       "      cursor: pointer;\n",
       "      display: none;\n",
       "      fill: #1967D2;\n",
       "      height: 32px;\n",
       "      padding: 0 0 0 0;\n",
       "      width: 32px;\n",
       "    }\n",
       "\n",
       "    .colab-df-convert:hover {\n",
       "      background-color: #E2EBFA;\n",
       "      box-shadow: 0px 1px 2px rgba(60, 64, 67, 0.3), 0px 1px 3px 1px rgba(60, 64, 67, 0.15);\n",
       "      fill: #174EA6;\n",
       "    }\n",
       "\n",
       "    [theme=dark] .colab-df-convert {\n",
       "      background-color: #3B4455;\n",
       "      fill: #D2E3FC;\n",
       "    }\n",
       "\n",
       "    [theme=dark] .colab-df-convert:hover {\n",
       "      background-color: #434B5C;\n",
       "      box-shadow: 0px 1px 3px 1px rgba(0, 0, 0, 0.15);\n",
       "      filter: drop-shadow(0px 1px 2px rgba(0, 0, 0, 0.3));\n",
       "      fill: #FFFFFF;\n",
       "    }\n",
       "  </style>\n",
       "\n",
       "      <script>\n",
       "        const buttonEl =\n",
       "          document.querySelector('#df-2b2688cc-65cc-4cc2-9af5-bc643738d7fd button.colab-df-convert');\n",
       "        buttonEl.style.display =\n",
       "          google.colab.kernel.accessAllowed ? 'block' : 'none';\n",
       "\n",
       "        async function convertToInteractive(key) {\n",
       "          const element = document.querySelector('#df-2b2688cc-65cc-4cc2-9af5-bc643738d7fd');\n",
       "          const dataTable =\n",
       "            await google.colab.kernel.invokeFunction('convertToInteractive',\n",
       "                                                     [key], {});\n",
       "          if (!dataTable) return;\n",
       "\n",
       "          const docLinkHtml = 'Like what you see? Visit the ' +\n",
       "            '<a target=\"_blank\" href=https://colab.research.google.com/notebooks/data_table.ipynb>data table notebook</a>'\n",
       "            + ' to learn more about interactive tables.';\n",
       "          element.innerHTML = '';\n",
       "          dataTable['output_type'] = 'display_data';\n",
       "          await google.colab.output.renderOutput(dataTable, element);\n",
       "          const docLink = document.createElement('div');\n",
       "          docLink.innerHTML = docLinkHtml;\n",
       "          element.appendChild(docLink);\n",
       "        }\n",
       "      </script>\n",
       "    </div>\n",
       "  </div>\n",
       "  "
      ],
      "text/plain": [
       "       Date  ...  Cushing, OK WTI Spot Price FOB ($/Bar.)\n",
       "0  Apr-1986  ...                                     12.8\n",
       "1  Apr-1987  ...                                     18.7\n",
       "2  Apr-1988  ...                                     17.9\n",
       "3  Apr-1989  ...                                     21.1\n",
       "4  Apr-1990  ...                                     18.4\n",
       "\n",
       "[5 rows x 10 columns]"
      ]
     },
     "execution_count": 4,
     "metadata": {},
     "output_type": "execute_result"
    }
   ],
   "source": [
    "# Read the file\n",
    "url = \"https://storage.googleapis.com/crude_oil_projection/Cleaned_Crude_Oil_Dataset.csv\"\n",
    "\n",
    "df  = pd.read_csv(url)\n",
    "df .head()"
   ]
  },
  {
   "cell_type": "code",
   "execution_count": 5,
   "metadata": {
    "colab": {
     "base_uri": "https://localhost:8080/",
     "height": 206
    },
    "id": "2MgTMsgEPPcC",
    "outputId": "f93629c1-679f-45ec-a1cf-79b81c650262"
   },
   "outputs": [
    {
     "data": {
      "text/html": [
       "\n",
       "  <div id=\"df-ee565d9c-f599-4128-aa0a-e47425c76ab6\">\n",
       "    <div class=\"colab-df-container\">\n",
       "      <div>\n",
       "<style scoped>\n",
       "    .dataframe tbody tr th:only-of-type {\n",
       "        vertical-align: middle;\n",
       "    }\n",
       "\n",
       "    .dataframe tbody tr th {\n",
       "        vertical-align: top;\n",
       "    }\n",
       "\n",
       "    .dataframe thead th {\n",
       "        text-align: right;\n",
       "    }\n",
       "</style>\n",
       "<table border=\"1\" class=\"dataframe\">\n",
       "  <thead>\n",
       "    <tr style=\"text-align: right;\">\n",
       "      <th></th>\n",
       "      <th>Date</th>\n",
       "      <th>Total_Production</th>\n",
       "      <th>Product_Supplied</th>\n",
       "      <th>Refinery_Input</th>\n",
       "      <th>Operable_Dist_Capacity</th>\n",
       "      <th>Operating_Dist_Capacity</th>\n",
       "      <th>Idle_Dist_Capacity</th>\n",
       "      <th>Percent_Util</th>\n",
       "      <th>Future_Price</th>\n",
       "      <th>Spot_Price</th>\n",
       "    </tr>\n",
       "  </thead>\n",
       "  <tbody>\n",
       "    <tr>\n",
       "      <th>0</th>\n",
       "      <td>Apr-1986</td>\n",
       "      <td>265917</td>\n",
       "      <td>478339</td>\n",
       "      <td>12603</td>\n",
       "      <td>15473</td>\n",
       "      <td>14550</td>\n",
       "      <td>923</td>\n",
       "      <td>81.5</td>\n",
       "      <td>12.8</td>\n",
       "      <td>12.8</td>\n",
       "    </tr>\n",
       "    <tr>\n",
       "      <th>1</th>\n",
       "      <td>Apr-1987</td>\n",
       "      <td>254945</td>\n",
       "      <td>495706</td>\n",
       "      <td>12637</td>\n",
       "      <td>15565</td>\n",
       "      <td>14870</td>\n",
       "      <td>695</td>\n",
       "      <td>81.2</td>\n",
       "      <td>18.6</td>\n",
       "      <td>18.7</td>\n",
       "    </tr>\n",
       "    <tr>\n",
       "      <th>2</th>\n",
       "      <td>Apr-1988</td>\n",
       "      <td>248629</td>\n",
       "      <td>496816</td>\n",
       "      <td>13346</td>\n",
       "      <td>15888</td>\n",
       "      <td>14986</td>\n",
       "      <td>902</td>\n",
       "      <td>84.0</td>\n",
       "      <td>17.9</td>\n",
       "      <td>17.9</td>\n",
       "    </tr>\n",
       "    <tr>\n",
       "      <th>3</th>\n",
       "      <td>Apr-1989</td>\n",
       "      <td>233147</td>\n",
       "      <td>498719</td>\n",
       "      <td>13123</td>\n",
       "      <td>15687</td>\n",
       "      <td>14944</td>\n",
       "      <td>743</td>\n",
       "      <td>83.7</td>\n",
       "      <td>20.9</td>\n",
       "      <td>21.1</td>\n",
       "    </tr>\n",
       "    <tr>\n",
       "      <th>4</th>\n",
       "      <td>Apr-1990</td>\n",
       "      <td>222215</td>\n",
       "      <td>503351</td>\n",
       "      <td>13250</td>\n",
       "      <td>15582</td>\n",
       "      <td>14827</td>\n",
       "      <td>754</td>\n",
       "      <td>85.0</td>\n",
       "      <td>18.6</td>\n",
       "      <td>18.4</td>\n",
       "    </tr>\n",
       "  </tbody>\n",
       "</table>\n",
       "</div>\n",
       "      <button class=\"colab-df-convert\" onclick=\"convertToInteractive('df-ee565d9c-f599-4128-aa0a-e47425c76ab6')\"\n",
       "              title=\"Convert this dataframe to an interactive table.\"\n",
       "              style=\"display:none;\">\n",
       "        \n",
       "  <svg xmlns=\"http://www.w3.org/2000/svg\" height=\"24px\"viewBox=\"0 0 24 24\"\n",
       "       width=\"24px\">\n",
       "    <path d=\"M0 0h24v24H0V0z\" fill=\"none\"/>\n",
       "    <path d=\"M18.56 5.44l.94 2.06.94-2.06 2.06-.94-2.06-.94-.94-2.06-.94 2.06-2.06.94zm-11 1L8.5 8.5l.94-2.06 2.06-.94-2.06-.94L8.5 2.5l-.94 2.06-2.06.94zm10 10l.94 2.06.94-2.06 2.06-.94-2.06-.94-.94-2.06-.94 2.06-2.06.94z\"/><path d=\"M17.41 7.96l-1.37-1.37c-.4-.4-.92-.59-1.43-.59-.52 0-1.04.2-1.43.59L10.3 9.45l-7.72 7.72c-.78.78-.78 2.05 0 2.83L4 21.41c.39.39.9.59 1.41.59.51 0 1.02-.2 1.41-.59l7.78-7.78 2.81-2.81c.8-.78.8-2.07 0-2.86zM5.41 20L4 18.59l7.72-7.72 1.47 1.35L5.41 20z\"/>\n",
       "  </svg>\n",
       "      </button>\n",
       "      \n",
       "  <style>\n",
       "    .colab-df-container {\n",
       "      display:flex;\n",
       "      flex-wrap:wrap;\n",
       "      gap: 12px;\n",
       "    }\n",
       "\n",
       "    .colab-df-convert {\n",
       "      background-color: #E8F0FE;\n",
       "      border: none;\n",
       "      border-radius: 50%;\n",
       "      cursor: pointer;\n",
       "      display: none;\n",
       "      fill: #1967D2;\n",
       "      height: 32px;\n",
       "      padding: 0 0 0 0;\n",
       "      width: 32px;\n",
       "    }\n",
       "\n",
       "    .colab-df-convert:hover {\n",
       "      background-color: #E2EBFA;\n",
       "      box-shadow: 0px 1px 2px rgba(60, 64, 67, 0.3), 0px 1px 3px 1px rgba(60, 64, 67, 0.15);\n",
       "      fill: #174EA6;\n",
       "    }\n",
       "\n",
       "    [theme=dark] .colab-df-convert {\n",
       "      background-color: #3B4455;\n",
       "      fill: #D2E3FC;\n",
       "    }\n",
       "\n",
       "    [theme=dark] .colab-df-convert:hover {\n",
       "      background-color: #434B5C;\n",
       "      box-shadow: 0px 1px 3px 1px rgba(0, 0, 0, 0.15);\n",
       "      filter: drop-shadow(0px 1px 2px rgba(0, 0, 0, 0.3));\n",
       "      fill: #FFFFFF;\n",
       "    }\n",
       "  </style>\n",
       "\n",
       "      <script>\n",
       "        const buttonEl =\n",
       "          document.querySelector('#df-ee565d9c-f599-4128-aa0a-e47425c76ab6 button.colab-df-convert');\n",
       "        buttonEl.style.display =\n",
       "          google.colab.kernel.accessAllowed ? 'block' : 'none';\n",
       "\n",
       "        async function convertToInteractive(key) {\n",
       "          const element = document.querySelector('#df-ee565d9c-f599-4128-aa0a-e47425c76ab6');\n",
       "          const dataTable =\n",
       "            await google.colab.kernel.invokeFunction('convertToInteractive',\n",
       "                                                     [key], {});\n",
       "          if (!dataTable) return;\n",
       "\n",
       "          const docLinkHtml = 'Like what you see? Visit the ' +\n",
       "            '<a target=\"_blank\" href=https://colab.research.google.com/notebooks/data_table.ipynb>data table notebook</a>'\n",
       "            + ' to learn more about interactive tables.';\n",
       "          element.innerHTML = '';\n",
       "          dataTable['output_type'] = 'display_data';\n",
       "          await google.colab.output.renderOutput(dataTable, element);\n",
       "          const docLink = document.createElement('div');\n",
       "          docLink.innerHTML = docLinkHtml;\n",
       "          element.appendChild(docLink);\n",
       "        }\n",
       "      </script>\n",
       "    </div>\n",
       "  </div>\n",
       "  "
      ],
      "text/plain": [
       "       Date  Total_Production  ...  Future_Price  Spot_Price\n",
       "0  Apr-1986            265917  ...          12.8        12.8\n",
       "1  Apr-1987            254945  ...          18.6        18.7\n",
       "2  Apr-1988            248629  ...          17.9        17.9\n",
       "3  Apr-1989            233147  ...          20.9        21.1\n",
       "4  Apr-1990            222215  ...          18.6        18.4\n",
       "\n",
       "[5 rows x 10 columns]"
      ]
     },
     "execution_count": 5,
     "metadata": {},
     "output_type": "execute_result"
    }
   ],
   "source": [
    "# Rename columns\n",
    "df.columns = [\"Date\", \"Total_Production\", \"Product_Supplied\", \"Refinery_Input\", \"Operable_Dist_Capacity\", \"Operating_Dist_Capacity\", \"Idle_Dist_Capacity\", \"Percent_Util\", \"Future_Price\", \"Spot_Price\"]\n",
    "df.head()"
   ]
  },
  {
   "cell_type": "code",
   "execution_count": 6,
   "metadata": {
    "colab": {
     "base_uri": "https://localhost:8080/",
     "height": 206
    },
    "id": "r3WqGncjPPhp",
    "outputId": "47a78809-9746-4dce-fbfa-b9d99cead06b"
   },
   "outputs": [
    {
     "data": {
      "text/html": [
       "\n",
       "  <div id=\"df-55f73198-53d4-4701-8cc7-74bdd4a24240\">\n",
       "    <div class=\"colab-df-container\">\n",
       "      <div>\n",
       "<style scoped>\n",
       "    .dataframe tbody tr th:only-of-type {\n",
       "        vertical-align: middle;\n",
       "    }\n",
       "\n",
       "    .dataframe tbody tr th {\n",
       "        vertical-align: top;\n",
       "    }\n",
       "\n",
       "    .dataframe thead th {\n",
       "        text-align: right;\n",
       "    }\n",
       "</style>\n",
       "<table border=\"1\" class=\"dataframe\">\n",
       "  <thead>\n",
       "    <tr style=\"text-align: right;\">\n",
       "      <th></th>\n",
       "      <th>Date</th>\n",
       "      <th>Year</th>\n",
       "      <th>Month</th>\n",
       "      <th>Total_Production</th>\n",
       "      <th>Product_Supplied</th>\n",
       "      <th>Refinery_Input</th>\n",
       "      <th>Operable_Dist_Capacity</th>\n",
       "      <th>Operating_Dist_Capacity</th>\n",
       "      <th>Idle_Dist_Capacity</th>\n",
       "      <th>Percent_Util</th>\n",
       "      <th>Future_Price</th>\n",
       "      <th>Spot_Price</th>\n",
       "    </tr>\n",
       "  </thead>\n",
       "  <tbody>\n",
       "    <tr>\n",
       "      <th>0</th>\n",
       "      <td>Jan-1986</td>\n",
       "      <td>1986</td>\n",
       "      <td>1</td>\n",
       "      <td>283248</td>\n",
       "      <td>498728</td>\n",
       "      <td>12583</td>\n",
       "      <td>15459</td>\n",
       "      <td>14639</td>\n",
       "      <td>820</td>\n",
       "      <td>81.4</td>\n",
       "      <td>23.0</td>\n",
       "      <td>22.9</td>\n",
       "    </tr>\n",
       "    <tr>\n",
       "      <th>1</th>\n",
       "      <td>Feb-1986</td>\n",
       "      <td>1986</td>\n",
       "      <td>2</td>\n",
       "      <td>256855</td>\n",
       "      <td>453209</td>\n",
       "      <td>12068</td>\n",
       "      <td>15485</td>\n",
       "      <td>14538</td>\n",
       "      <td>947</td>\n",
       "      <td>77.9</td>\n",
       "      <td>15.5</td>\n",
       "      <td>15.5</td>\n",
       "    </tr>\n",
       "    <tr>\n",
       "      <th>2</th>\n",
       "      <td>Mar-1986</td>\n",
       "      <td>1986</td>\n",
       "      <td>3</td>\n",
       "      <td>279413</td>\n",
       "      <td>504565</td>\n",
       "      <td>11759</td>\n",
       "      <td>15485</td>\n",
       "      <td>14517</td>\n",
       "      <td>968</td>\n",
       "      <td>75.9</td>\n",
       "      <td>12.6</td>\n",
       "      <td>12.6</td>\n",
       "    </tr>\n",
       "    <tr>\n",
       "      <th>3</th>\n",
       "      <td>Apr-1986</td>\n",
       "      <td>1986</td>\n",
       "      <td>4</td>\n",
       "      <td>265917</td>\n",
       "      <td>478339</td>\n",
       "      <td>12603</td>\n",
       "      <td>15473</td>\n",
       "      <td>14550</td>\n",
       "      <td>923</td>\n",
       "      <td>81.5</td>\n",
       "      <td>12.8</td>\n",
       "      <td>12.8</td>\n",
       "    </tr>\n",
       "    <tr>\n",
       "      <th>4</th>\n",
       "      <td>May-1986</td>\n",
       "      <td>1986</td>\n",
       "      <td>5</td>\n",
       "      <td>273964</td>\n",
       "      <td>495789</td>\n",
       "      <td>13314</td>\n",
       "      <td>15484</td>\n",
       "      <td>14805</td>\n",
       "      <td>679</td>\n",
       "      <td>86.0</td>\n",
       "      <td>15.3</td>\n",
       "      <td>15.4</td>\n",
       "    </tr>\n",
       "  </tbody>\n",
       "</table>\n",
       "</div>\n",
       "      <button class=\"colab-df-convert\" onclick=\"convertToInteractive('df-55f73198-53d4-4701-8cc7-74bdd4a24240')\"\n",
       "              title=\"Convert this dataframe to an interactive table.\"\n",
       "              style=\"display:none;\">\n",
       "        \n",
       "  <svg xmlns=\"http://www.w3.org/2000/svg\" height=\"24px\"viewBox=\"0 0 24 24\"\n",
       "       width=\"24px\">\n",
       "    <path d=\"M0 0h24v24H0V0z\" fill=\"none\"/>\n",
       "    <path d=\"M18.56 5.44l.94 2.06.94-2.06 2.06-.94-2.06-.94-.94-2.06-.94 2.06-2.06.94zm-11 1L8.5 8.5l.94-2.06 2.06-.94-2.06-.94L8.5 2.5l-.94 2.06-2.06.94zm10 10l.94 2.06.94-2.06 2.06-.94-2.06-.94-.94-2.06-.94 2.06-2.06.94z\"/><path d=\"M17.41 7.96l-1.37-1.37c-.4-.4-.92-.59-1.43-.59-.52 0-1.04.2-1.43.59L10.3 9.45l-7.72 7.72c-.78.78-.78 2.05 0 2.83L4 21.41c.39.39.9.59 1.41.59.51 0 1.02-.2 1.41-.59l7.78-7.78 2.81-2.81c.8-.78.8-2.07 0-2.86zM5.41 20L4 18.59l7.72-7.72 1.47 1.35L5.41 20z\"/>\n",
       "  </svg>\n",
       "      </button>\n",
       "      \n",
       "  <style>\n",
       "    .colab-df-container {\n",
       "      display:flex;\n",
       "      flex-wrap:wrap;\n",
       "      gap: 12px;\n",
       "    }\n",
       "\n",
       "    .colab-df-convert {\n",
       "      background-color: #E8F0FE;\n",
       "      border: none;\n",
       "      border-radius: 50%;\n",
       "      cursor: pointer;\n",
       "      display: none;\n",
       "      fill: #1967D2;\n",
       "      height: 32px;\n",
       "      padding: 0 0 0 0;\n",
       "      width: 32px;\n",
       "    }\n",
       "\n",
       "    .colab-df-convert:hover {\n",
       "      background-color: #E2EBFA;\n",
       "      box-shadow: 0px 1px 2px rgba(60, 64, 67, 0.3), 0px 1px 3px 1px rgba(60, 64, 67, 0.15);\n",
       "      fill: #174EA6;\n",
       "    }\n",
       "\n",
       "    [theme=dark] .colab-df-convert {\n",
       "      background-color: #3B4455;\n",
       "      fill: #D2E3FC;\n",
       "    }\n",
       "\n",
       "    [theme=dark] .colab-df-convert:hover {\n",
       "      background-color: #434B5C;\n",
       "      box-shadow: 0px 1px 3px 1px rgba(0, 0, 0, 0.15);\n",
       "      filter: drop-shadow(0px 1px 2px rgba(0, 0, 0, 0.3));\n",
       "      fill: #FFFFFF;\n",
       "    }\n",
       "  </style>\n",
       "\n",
       "      <script>\n",
       "        const buttonEl =\n",
       "          document.querySelector('#df-55f73198-53d4-4701-8cc7-74bdd4a24240 button.colab-df-convert');\n",
       "        buttonEl.style.display =\n",
       "          google.colab.kernel.accessAllowed ? 'block' : 'none';\n",
       "\n",
       "        async function convertToInteractive(key) {\n",
       "          const element = document.querySelector('#df-55f73198-53d4-4701-8cc7-74bdd4a24240');\n",
       "          const dataTable =\n",
       "            await google.colab.kernel.invokeFunction('convertToInteractive',\n",
       "                                                     [key], {});\n",
       "          if (!dataTable) return;\n",
       "\n",
       "          const docLinkHtml = 'Like what you see? Visit the ' +\n",
       "            '<a target=\"_blank\" href=https://colab.research.google.com/notebooks/data_table.ipynb>data table notebook</a>'\n",
       "            + ' to learn more about interactive tables.';\n",
       "          element.innerHTML = '';\n",
       "          dataTable['output_type'] = 'display_data';\n",
       "          await google.colab.output.renderOutput(dataTable, element);\n",
       "          const docLink = document.createElement('div');\n",
       "          docLink.innerHTML = docLinkHtml;\n",
       "          element.appendChild(docLink);\n",
       "        }\n",
       "      </script>\n",
       "    </div>\n",
       "  </div>\n",
       "  "
      ],
      "text/plain": [
       "       Date  Year  Month  ...  Percent_Util  Future_Price  Spot_Price\n",
       "0  Jan-1986  1986      1  ...          81.4          23.0        22.9\n",
       "1  Feb-1986  1986      2  ...          77.9          15.5        15.5\n",
       "2  Mar-1986  1986      3  ...          75.9          12.6        12.6\n",
       "3  Apr-1986  1986      4  ...          81.5          12.8        12.8\n",
       "4  May-1986  1986      5  ...          86.0          15.3        15.4\n",
       "\n",
       "[5 rows x 12 columns]"
      ]
     },
     "execution_count": 6,
     "metadata": {},
     "output_type": "execute_result"
    }
   ],
   "source": [
    "# Get month and Year from Date\n",
    "df[\"Year\"] = pd.DatetimeIndex(df[\"Date\"]).year\n",
    "df[\"Month\"] = pd.DatetimeIndex(df[\"Date\"]).month\n",
    "\n",
    "# Reorder Columns \n",
    "df = df[[\"Date\", \"Year\", \"Month\", \"Total_Production\", \"Product_Supplied\", \"Refinery_Input\", \"Operable_Dist_Capacity\", \"Operating_Dist_Capacity\", \"Idle_Dist_Capacity\", \"Percent_Util\", \"Future_Price\", \"Spot_Price\"]]\n",
    "\n",
    "# Sorting DataFrame by Year and Month\n",
    "df.sort_values([\"Year\", \"Month\"], ascending=[True, True], inplace=True)\n",
    "\n",
    "# DataFrame without index\n",
    "df.reset_index(drop=True, inplace=True)\n",
    "df.head()"
   ]
  },
  {
   "cell_type": "code",
   "execution_count": 7,
   "metadata": {
    "colab": {
     "base_uri": "https://localhost:8080/"
    },
    "id": "nF0sMck0PA5a",
    "outputId": "91e3235f-3546-48f6-f2e0-d34df6ba8ba1"
   },
   "outputs": [
    {
     "name": "stdout",
     "output_type": "stream",
     "text": [
      "The shape of our DataFrame is: (430, 12)\n"
     ]
    }
   ],
   "source": [
    "print(\"The shape of our DataFrame is:\", df.shape)"
   ]
  },
  {
   "cell_type": "code",
   "execution_count": 8,
   "metadata": {
    "colab": {
     "base_uri": "https://localhost:8080/",
     "height": 300
    },
    "id": "F9OrTgzwPDEr",
    "outputId": "9d90b49e-080b-43ae-a62b-633a641154c8"
   },
   "outputs": [
    {
     "data": {
      "text/html": [
       "\n",
       "  <div id=\"df-96706efa-eae0-4075-9bf8-9184e6edaaeb\">\n",
       "    <div class=\"colab-df-container\">\n",
       "      <div>\n",
       "<style scoped>\n",
       "    .dataframe tbody tr th:only-of-type {\n",
       "        vertical-align: middle;\n",
       "    }\n",
       "\n",
       "    .dataframe tbody tr th {\n",
       "        vertical-align: top;\n",
       "    }\n",
       "\n",
       "    .dataframe thead th {\n",
       "        text-align: right;\n",
       "    }\n",
       "</style>\n",
       "<table border=\"1\" class=\"dataframe\">\n",
       "  <thead>\n",
       "    <tr style=\"text-align: right;\">\n",
       "      <th></th>\n",
       "      <th>Year</th>\n",
       "      <th>Month</th>\n",
       "      <th>Total_Production</th>\n",
       "      <th>Product_Supplied</th>\n",
       "      <th>Refinery_Input</th>\n",
       "      <th>Operable_Dist_Capacity</th>\n",
       "      <th>Operating_Dist_Capacity</th>\n",
       "      <th>Idle_Dist_Capacity</th>\n",
       "      <th>Percent_Util</th>\n",
       "      <th>Future_Price</th>\n",
       "      <th>Spot_Price</th>\n",
       "    </tr>\n",
       "  </thead>\n",
       "  <tbody>\n",
       "    <tr>\n",
       "      <th>count</th>\n",
       "      <td>430.000000</td>\n",
       "      <td>430.000000</td>\n",
       "      <td>430.000000</td>\n",
       "      <td>430.000000</td>\n",
       "      <td>430.000000</td>\n",
       "      <td>430.000000</td>\n",
       "      <td>430.000000</td>\n",
       "      <td>430.000000</td>\n",
       "      <td>430.000000</td>\n",
       "      <td>430.000000</td>\n",
       "      <td>430.000000</td>\n",
       "    </tr>\n",
       "    <tr>\n",
       "      <th>mean</th>\n",
       "      <td>2003.418605</td>\n",
       "      <td>6.476744</td>\n",
       "      <td>220299.755814</td>\n",
       "      <td>574218.216279</td>\n",
       "      <td>15007.913953</td>\n",
       "      <td>16841.562791</td>\n",
       "      <td>16419.065116</td>\n",
       "      <td>422.527907</td>\n",
       "      <td>89.159767</td>\n",
       "      <td>44.572326</td>\n",
       "      <td>44.558372</td>\n",
       "    </tr>\n",
       "    <tr>\n",
       "      <th>std</th>\n",
       "      <td>10.355527</td>\n",
       "      <td>3.446990</td>\n",
       "      <td>59441.362987</td>\n",
       "      <td>45528.327895</td>\n",
       "      <td>1238.984141</td>\n",
       "      <td>1161.536555</td>\n",
       "      <td>1210.491590</td>\n",
       "      <td>337.887670</td>\n",
       "      <td>4.918490</td>\n",
       "      <td>28.698790</td>\n",
       "      <td>28.683308</td>\n",
       "    </tr>\n",
       "    <tr>\n",
       "      <th>min</th>\n",
       "      <td>1986.000000</td>\n",
       "      <td>1.000000</td>\n",
       "      <td>119208.000000</td>\n",
       "      <td>436455.000000</td>\n",
       "      <td>11759.000000</td>\n",
       "      <td>15028.000000</td>\n",
       "      <td>14375.000000</td>\n",
       "      <td>32.000000</td>\n",
       "      <td>70.200000</td>\n",
       "      <td>11.300000</td>\n",
       "      <td>11.300000</td>\n",
       "    </tr>\n",
       "    <tr>\n",
       "      <th>25%</th>\n",
       "      <td>1994.250000</td>\n",
       "      <td>3.250000</td>\n",
       "      <td>173878.250000</td>\n",
       "      <td>537078.500000</td>\n",
       "      <td>14049.250000</td>\n",
       "      <td>15686.250000</td>\n",
       "      <td>15117.000000</td>\n",
       "      <td>158.250000</td>\n",
       "      <td>86.000000</td>\n",
       "      <td>19.900000</td>\n",
       "      <td>19.900000</td>\n",
       "    </tr>\n",
       "    <tr>\n",
       "      <th>50%</th>\n",
       "      <td>2003.000000</td>\n",
       "      <td>6.000000</td>\n",
       "      <td>202056.500000</td>\n",
       "      <td>579533.000000</td>\n",
       "      <td>15093.500000</td>\n",
       "      <td>16764.000000</td>\n",
       "      <td>16564.000000</td>\n",
       "      <td>321.500000</td>\n",
       "      <td>89.500000</td>\n",
       "      <td>33.050000</td>\n",
       "      <td>33.300000</td>\n",
       "    </tr>\n",
       "    <tr>\n",
       "      <th>75%</th>\n",
       "      <td>2012.000000</td>\n",
       "      <td>9.000000</td>\n",
       "      <td>255772.250000</td>\n",
       "      <td>610163.500000</td>\n",
       "      <td>15803.750000</td>\n",
       "      <td>17736.000000</td>\n",
       "      <td>17227.500000</td>\n",
       "      <td>617.750000</td>\n",
       "      <td>92.700000</td>\n",
       "      <td>63.500000</td>\n",
       "      <td>63.650000</td>\n",
       "    </tr>\n",
       "    <tr>\n",
       "      <th>max</th>\n",
       "      <td>2021.000000</td>\n",
       "      <td>12.000000</td>\n",
       "      <td>400219.000000</td>\n",
       "      <td>671648.000000</td>\n",
       "      <td>18041.000000</td>\n",
       "      <td>18976.000000</td>\n",
       "      <td>18698.000000</td>\n",
       "      <td>2651.000000</td>\n",
       "      <td>99.900000</td>\n",
       "      <td>134.000000</td>\n",
       "      <td>133.900000</td>\n",
       "    </tr>\n",
       "  </tbody>\n",
       "</table>\n",
       "</div>\n",
       "      <button class=\"colab-df-convert\" onclick=\"convertToInteractive('df-96706efa-eae0-4075-9bf8-9184e6edaaeb')\"\n",
       "              title=\"Convert this dataframe to an interactive table.\"\n",
       "              style=\"display:none;\">\n",
       "        \n",
       "  <svg xmlns=\"http://www.w3.org/2000/svg\" height=\"24px\"viewBox=\"0 0 24 24\"\n",
       "       width=\"24px\">\n",
       "    <path d=\"M0 0h24v24H0V0z\" fill=\"none\"/>\n",
       "    <path d=\"M18.56 5.44l.94 2.06.94-2.06 2.06-.94-2.06-.94-.94-2.06-.94 2.06-2.06.94zm-11 1L8.5 8.5l.94-2.06 2.06-.94-2.06-.94L8.5 2.5l-.94 2.06-2.06.94zm10 10l.94 2.06.94-2.06 2.06-.94-2.06-.94-.94-2.06-.94 2.06-2.06.94z\"/><path d=\"M17.41 7.96l-1.37-1.37c-.4-.4-.92-.59-1.43-.59-.52 0-1.04.2-1.43.59L10.3 9.45l-7.72 7.72c-.78.78-.78 2.05 0 2.83L4 21.41c.39.39.9.59 1.41.59.51 0 1.02-.2 1.41-.59l7.78-7.78 2.81-2.81c.8-.78.8-2.07 0-2.86zM5.41 20L4 18.59l7.72-7.72 1.47 1.35L5.41 20z\"/>\n",
       "  </svg>\n",
       "      </button>\n",
       "      \n",
       "  <style>\n",
       "    .colab-df-container {\n",
       "      display:flex;\n",
       "      flex-wrap:wrap;\n",
       "      gap: 12px;\n",
       "    }\n",
       "\n",
       "    .colab-df-convert {\n",
       "      background-color: #E8F0FE;\n",
       "      border: none;\n",
       "      border-radius: 50%;\n",
       "      cursor: pointer;\n",
       "      display: none;\n",
       "      fill: #1967D2;\n",
       "      height: 32px;\n",
       "      padding: 0 0 0 0;\n",
       "      width: 32px;\n",
       "    }\n",
       "\n",
       "    .colab-df-convert:hover {\n",
       "      background-color: #E2EBFA;\n",
       "      box-shadow: 0px 1px 2px rgba(60, 64, 67, 0.3), 0px 1px 3px 1px rgba(60, 64, 67, 0.15);\n",
       "      fill: #174EA6;\n",
       "    }\n",
       "\n",
       "    [theme=dark] .colab-df-convert {\n",
       "      background-color: #3B4455;\n",
       "      fill: #D2E3FC;\n",
       "    }\n",
       "\n",
       "    [theme=dark] .colab-df-convert:hover {\n",
       "      background-color: #434B5C;\n",
       "      box-shadow: 0px 1px 3px 1px rgba(0, 0, 0, 0.15);\n",
       "      filter: drop-shadow(0px 1px 2px rgba(0, 0, 0, 0.3));\n",
       "      fill: #FFFFFF;\n",
       "    }\n",
       "  </style>\n",
       "\n",
       "      <script>\n",
       "        const buttonEl =\n",
       "          document.querySelector('#df-96706efa-eae0-4075-9bf8-9184e6edaaeb button.colab-df-convert');\n",
       "        buttonEl.style.display =\n",
       "          google.colab.kernel.accessAllowed ? 'block' : 'none';\n",
       "\n",
       "        async function convertToInteractive(key) {\n",
       "          const element = document.querySelector('#df-96706efa-eae0-4075-9bf8-9184e6edaaeb');\n",
       "          const dataTable =\n",
       "            await google.colab.kernel.invokeFunction('convertToInteractive',\n",
       "                                                     [key], {});\n",
       "          if (!dataTable) return;\n",
       "\n",
       "          const docLinkHtml = 'Like what you see? Visit the ' +\n",
       "            '<a target=\"_blank\" href=https://colab.research.google.com/notebooks/data_table.ipynb>data table notebook</a>'\n",
       "            + ' to learn more about interactive tables.';\n",
       "          element.innerHTML = '';\n",
       "          dataTable['output_type'] = 'display_data';\n",
       "          await google.colab.output.renderOutput(dataTable, element);\n",
       "          const docLink = document.createElement('div');\n",
       "          docLink.innerHTML = docLinkHtml;\n",
       "          element.appendChild(docLink);\n",
       "        }\n",
       "      </script>\n",
       "    </div>\n",
       "  </div>\n",
       "  "
      ],
      "text/plain": [
       "              Year       Month  ...  Future_Price  Spot_Price\n",
       "count   430.000000  430.000000  ...    430.000000  430.000000\n",
       "mean   2003.418605    6.476744  ...     44.572326   44.558372\n",
       "std      10.355527    3.446990  ...     28.698790   28.683308\n",
       "min    1986.000000    1.000000  ...     11.300000   11.300000\n",
       "25%    1994.250000    3.250000  ...     19.900000   19.900000\n",
       "50%    2003.000000    6.000000  ...     33.050000   33.300000\n",
       "75%    2012.000000    9.000000  ...     63.500000   63.650000\n",
       "max    2021.000000   12.000000  ...    134.000000  133.900000\n",
       "\n",
       "[8 rows x 11 columns]"
      ]
     },
     "execution_count": 8,
     "metadata": {},
     "output_type": "execute_result"
    }
   ],
   "source": [
    "# Descriptive statistics for each column\n",
    "df.describe()"
   ]
  },
  {
   "cell_type": "markdown",
   "metadata": {
    "id": "pWwbQdakFJ2d"
   },
   "source": [
    "## # Preprocess the Data"
   ]
  },
  {
   "cell_type": "code",
   "execution_count": 9,
   "metadata": {
    "id": "jQwYpHxgPJvm"
   },
   "outputs": [],
   "source": [
    "# Define the features and target set.\n",
    "X = df.drop([\"Date\", \"Spot_Price\", \"Future_Price\"], axis = 1)\n",
    "y = np.array(df[\"Spot_Price\"])\n",
    "\n",
    "# Saving feature names for later use\n",
    "X_list = list(X.columns)\n",
    "\n",
    "# Convert to numpy array\n",
    "X = np.array(X)"
   ]
  },
  {
   "cell_type": "markdown",
   "metadata": {
    "id": "zGaPjWmBGCY9"
   },
   "source": [
    "## # Training and Testing Sets"
   ]
  },
  {
   "cell_type": "code",
   "execution_count": 10,
   "metadata": {
    "id": "_C4qgk3aPJyf"
   },
   "outputs": [],
   "source": [
    "# Split the data into training and testing sets\n",
    "X_train, X_test, y_train, y_test = train_test_split(X, y, test_size = 0.25, random_state = 42)"
   ]
  },
  {
   "cell_type": "code",
   "execution_count": 11,
   "metadata": {
    "colab": {
     "base_uri": "https://localhost:8080/"
    },
    "id": "lAqQ2qZGPJ1H",
    "outputId": "8be015b7-55e9-47ad-e1a1-b535fd7a3a18"
   },
   "outputs": [
    {
     "name": "stdout",
     "output_type": "stream",
     "text": [
      "Training Features Shape: (322, 9)\n",
      "Training Labels Shape: (322,)\n",
      "Testing Features Shape: (108, 9)\n",
      "Testing Labels Shape: (108,)\n"
     ]
    }
   ],
   "source": [
    "print(\"Training Features Shape:\", X_train.shape)\n",
    "print(\"Training Labels Shape:\", y_train.shape)\n",
    "print(\"Testing Features Shape:\", X_test.shape)\n",
    "print(\"Testing Labels Shape:\", y_test.shape)"
   ]
  },
  {
   "cell_type": "code",
   "execution_count": 12,
   "metadata": {
    "id": "8Cay8cygcvtT"
   },
   "outputs": [],
   "source": [
    "# Creating a StandardScaler instance.\n",
    "scaler = StandardScaler()\n",
    "# Fitting the Standard Scaler with the training data.\n",
    "X_scaler = scaler.fit(X_train)\n",
    "\n",
    "# Scaling the data.\n",
    "X_train_scaled = X_scaler.transform(X_train)\n",
    "X_test_scaled = X_scaler.transform(X_test)"
   ]
  },
  {
   "cell_type": "markdown",
   "metadata": {
    "id": "wvZYMUYAFQZv"
   },
   "source": [
    "## # Fit the Random Forest Model"
   ]
  },
  {
   "cell_type": "code",
   "execution_count": 13,
   "metadata": {
    "id": "aYCJUgOuPJ3u"
   },
   "outputs": [],
   "source": [
    "# Create a Random Forest Regressor\n",
    "rf_model = RandomForestRegressor(n_estimators = 1000, random_state = 42)\n",
    "\n",
    "# Fitting the model\n",
    "rf_model = rf_model.fit(X_train_scaled, y_train)"
   ]
  },
  {
   "cell_type": "markdown",
   "metadata": {
    "id": "HNVYGdUHFcHS"
   },
   "source": [
    "## # Make Predictions on the Test Set"
   ]
  },
  {
   "cell_type": "code",
   "execution_count": 14,
   "metadata": {
    "id": "r_aZJqhePJ6T"
   },
   "outputs": [],
   "source": [
    "# Making predictions using the testing data\n",
    "y_pred = rf_model.predict(X_test_scaled)"
   ]
  },
  {
   "cell_type": "markdown",
   "metadata": {
    "id": "N6YOym7WFnw8"
   },
   "source": [
    "## # Evaluate the Model"
   ]
  },
  {
   "cell_type": "code",
   "execution_count": 15,
   "metadata": {
    "colab": {
     "base_uri": "https://localhost:8080/"
    },
    "id": "KFSfehBBj0-9",
    "outputId": "607048dd-580c-4172-d4a9-6716f7b9e108"
   },
   "outputs": [
    {
     "name": "stdout",
     "output_type": "stream",
     "text": [
      "Mean Absolute Error(MAE): 4.25\n"
     ]
    }
   ],
   "source": [
    "# Calculate the mean absolute (MAE), mean squared (MSE), and root mean squared errors (RMSE)\n",
    "print(f\"Mean Absolute Error(MAE): {metrics.mean_absolute_error(y_test, y_pred):.2f}\")"
   ]
  },
  {
   "cell_type": "code",
   "execution_count": 16,
   "metadata": {
    "colab": {
     "base_uri": "https://localhost:8080/"
    },
    "id": "rldf2mo4oJQ_",
    "outputId": "0403172c-765c-489b-e494-97a95e9aec73"
   },
   "outputs": [
    {
     "name": "stdout",
     "output_type": "stream",
     "text": [
      "Accuracy: 88.64 %.\n"
     ]
    }
   ],
   "source": [
    "# The absolute errors (MAE)\n",
    "errors = abs(y_pred - y_test)\n",
    "\n",
    "# Calculate mean absolute percentage error (MAPE)\n",
    "mape = 100 * (errors / y_test)\n",
    "\n",
    "# Calculate and display accuracy\n",
    "accuracy = 100 - np.mean(mape)\n",
    "print(\"Accuracy:\", round(accuracy, 2), \"%.\")"
   ]
  },
  {
   "cell_type": "markdown",
   "metadata": {
    "id": "i2BYYw5NF1Lv"
   },
   "source": [
    "## # Visualizing a Single Decision Tree"
   ]
  },
  {
   "cell_type": "code",
   "execution_count": 17,
   "metadata": {
    "id": "XFDqz891SA4B"
   },
   "outputs": [],
   "source": [
    "# Pull out one tree from the forest\n",
    "tree = rf_model.estimators_[5]\n",
    "\n",
    "# Export the image to a dot file\n",
    "export_graphviz(tree, out_file = \"tree.dot\", feature_names = X_list, rounded = True, precision = 1)\n",
    "\n",
    "# Use dot file to create a graph\n",
    "(graph, ) = pydot.graph_from_dot_file(\"tree.dot\")\n",
    "\n",
    "# Write graph to a png file\n",
    "graph.write_png(\"tree.png\")"
   ]
  },
  {
   "cell_type": "markdown",
   "metadata": {
    "id": "N6HfTnquHWez"
   },
   "source": [
    "## # The reduced size tree\n",
    "(To make things easier: limit the depth of trees in the forest to produce an understandable image)"
   ]
  },
  {
   "cell_type": "code",
   "execution_count": 18,
   "metadata": {
    "id": "ZdX-DjktSpFG"
   },
   "outputs": [],
   "source": [
    "# Limit depth of tree to 3 levels\n",
    "rf_small = RandomForestRegressor(n_estimators=10, max_depth = 3)\n",
    "rf_small.fit(X_train_scaled, y_train)\n",
    "\n",
    "# Extract the small tree\n",
    "tree_small = rf_small.estimators_[5]\n",
    "\n",
    "# Save the tree as a png image\n",
    "export_graphviz(tree_small, out_file = \"small_tree.dot\", feature_names = X_list, rounded = True, precision = 1)\n",
    "(graph, ) = pydot.graph_from_dot_file(\"small_tree.dot\")\n",
    "graph.write_png(\"small_tree.png\");"
   ]
  },
  {
   "cell_type": "markdown",
   "metadata": {
    "id": "l3Uv8gVTDjxb"
   },
   "source": [
    "# # Rank the Importance of Features"
   ]
  },
  {
   "cell_type": "code",
   "execution_count": 19,
   "metadata": {
    "colab": {
     "base_uri": "https://localhost:8080/"
    },
    "id": "d1RZmQZfUR_p",
    "outputId": "9a326dcd-21d0-4e9f-b018-daa584298cbc"
   },
   "outputs": [
    {
     "name": "stdout",
     "output_type": "stream",
     "text": [
      "Variable: Operable_Dist_Capacity Importance: 0.57\n",
      "Variable: Year       Importance: 0.34\n",
      "Variable: Operating_Dist_Capacity Importance: 0.03\n",
      "Variable: Idle_Dist_Capacity Importance: 0.02\n",
      "Variable: Month      Importance: 0.01\n",
      "Variable: Total_Production Importance: 0.01\n",
      "Variable: Product_Supplied Importance: 0.01\n",
      "Variable: Refinery_Input Importance: 0.01\n",
      "Variable: Percent_Util Importance: 0.01\n"
     ]
    }
   ],
   "source": [
    "# Get numerical feature importances\n",
    "importances = list(rf_model.feature_importances_)\n",
    "\n",
    "# List of tuples with variable and importance\n",
    "feature_importances = [(feature, round(importance, 2)) for feature, importance in zip(X_list, importances)]\n",
    "\n",
    "# Sort the feature importances by most important first\n",
    "feature_importances = sorted(feature_importances, key = lambda x: x[1], reverse = True)\n",
    "\n",
    "# Print out the feature and importances \n",
    "[print(\"Variable: {:10} Importance: {}\".format(*pair)) for pair in feature_importances];"
   ]
  },
  {
   "cell_type": "markdown",
   "metadata": {
    "id": "702L6tpgQLe7"
   },
   "source": [
    "### Visualization - the Importance of Features"
   ]
  },
  {
   "cell_type": "code",
   "execution_count": 20,
   "metadata": {
    "id": "YKr_t5kyI7cc"
   },
   "outputs": [],
   "source": [
    "# Set the style\n",
    "plt.style.use(\"fivethirtyeight\")\n",
    "\n",
    "# list of x locations for plotting\n",
    "x_values = list(range(len(importances)))"
   ]
  },
  {
   "cell_type": "code",
   "execution_count": 21,
   "metadata": {
    "colab": {
     "base_uri": "https://localhost:8080/",
     "height": 484
    },
    "id": "pR4qyOnYJ3o1",
    "outputId": "3142c944-00ab-4d17-e465-c28dd4aec389"
   },
   "outputs": [
    {
     "data": {
      "image/png": "[encoded data removed]",
      "text/plain": [
       "<Figure size 432x288 with 1 Axes>"
      ]
     },
     "metadata": {},
     "output_type": "display_data"
    }
   ],
   "source": [
    "# Make a bar chart\n",
    "plt.bar(x_values, importances, orientation = \"vertical\")\n",
    "\n",
    "# Tick labels for x axis\n",
    "plt.xticks(x_values, X_list, rotation=\"90\")\n",
    "\n",
    "# Axis labels and title\n",
    "plt.ylabel(\"Importance\"); plt.xlabel(\"Variable\"); plt.title(\"Variable Importances\");"
   ]
  },
  {
   "cell_type": "markdown",
   "metadata": {
    "id": "taeO7CoAIc5F"
   },
   "source": [
    "# # Make a Random Forest with only the two most important variables"
   ]
  },
  {
   "cell_type": "code",
   "execution_count": 22,
   "metadata": {
    "id": "Ihb0H8koUSCy"
   },
   "outputs": [],
   "source": [
    "# New random forest with only the two most important variables\n",
    "rf_most_important = RandomForestRegressor(n_estimators= 1000, random_state=42)"
   ]
  },
  {
   "cell_type": "code",
   "execution_count": 23,
   "metadata": {
    "id": "ab9UXLJUIxso"
   },
   "outputs": [],
   "source": [
    "# Extract the two most important features\n",
    "important_indices = [X_list.index(\"Operable_Dist_Capacity\"), X_list.index(\"Year\")]\n",
    "train_important = X_train_scaled[:, important_indices]\n",
    "test_important = X_test_scaled[:, important_indices]"
   ]
  },
  {
   "cell_type": "code",
   "execution_count": 24,
   "metadata": {
    "colab": {
     "base_uri": "https://localhost:8080/"
    },
    "id": "dwbRh7cfIxvb",
    "outputId": "2924bfa2-3dfa-4e1b-d2ae-01f34f0a6870"
   },
   "outputs": [
    {
     "data": {
      "text/plain": [
       "RandomForestRegressor(n_estimators=1000, random_state=42)"
      ]
     },
     "execution_count": 24,
     "metadata": {},
     "output_type": "execute_result"
    }
   ],
   "source": [
    "# Train the random forest\n",
    "rf_most_important.fit(train_important, y_train)"
   ]
  },
  {
   "cell_type": "code",
   "execution_count": 25,
   "metadata": {
    "id": "z2w6-wIFIxyG"
   },
   "outputs": [],
   "source": [
    "# Make predictions and determine the error\n",
    "y_pred = rf_most_important.predict(test_important)"
   ]
  },
  {
   "cell_type": "code",
   "execution_count": 26,
   "metadata": {
    "colab": {
     "base_uri": "https://localhost:8080/"
    },
    "id": "LkE1W4i4s6Z1",
    "outputId": "fe44b0a0-9d7d-441c-accf-54e8ab699c24"
   },
   "outputs": [
    {
     "name": "stdout",
     "output_type": "stream",
     "text": [
      "Mean Absolute Error(MAE): 3.56\n"
     ]
    }
   ],
   "source": [
    "# Calculate the mean absolute (MAE), mean squared (MSE), and root mean squared errors (RMSE)\n",
    "print(f\"Mean Absolute Error(MAE): {metrics.mean_absolute_error(y_test, y_pred):.2f}\")"
   ]
  },
  {
   "cell_type": "code",
   "execution_count": 27,
   "metadata": {
    "colab": {
     "base_uri": "https://localhost:8080/"
    },
    "id": "UgBoQZXlIx00",
    "outputId": "fe5435d3-4ba6-4fb7-8e77-7cd1ff0bc560"
   },
   "outputs": [
    {
     "name": "stdout",
     "output_type": "stream",
     "text": [
      "Accuracy: 90.63 %.\n"
     ]
    }
   ],
   "source": [
    "# The absolute errors (MAE)\n",
    "errors = abs(y_pred - y_test)\n",
    "\n",
    "# Calculate mean absolute percentage error (MAPE)\n",
    "mape = np.mean(100 * (errors / y_test))\n",
    "accuracy = 100 - mape\n",
    "\n",
    "print(\"Accuracy:\", round(accuracy, 2), \"%.\")"
   ]
  },
  {
   "cell_type": "markdown",
   "metadata": {
    "id": "zdtbtDT_JokX"
   },
   "source": [
    "## # Visualizations"
   ]
  },
  {
   "cell_type": "code",
   "execution_count": 28,
   "metadata": {
    "id": "RfPq33TeKe-y"
   },
   "outputs": [],
   "source": [
    "# Dates of training values\n",
    "months = X[:, X_list.index(\"Month\")]\n",
    "years = X[:, X_list.index(\"Year\")]\n",
    "\n",
    "# List and then convert to datetime object\n",
    "dates = [str(int(year)) + \"-\" + str(int(month)) for year, month in zip(years, months)]\n",
    "dates = [dt.datetime.strptime(date, \"%Y-%m\") for date in dates]\n",
    "\n",
    "# Dataframe with true values and dates\n",
    "true_data = pd.DataFrame(data = {\"date\": dates, \"actual\": y})\n",
    "\n",
    "# Dates of predictions\n",
    "months = X_test[:, X_list.index(\"Month\")]\n",
    "years = X_test[:, X_list.index(\"Year\")]"
   ]
  },
  {
   "cell_type": "code",
   "execution_count": 29,
   "metadata": {
    "id": "SExCA2ITKfJg"
   },
   "outputs": [],
   "source": [
    "# Column of dates\n",
    "test_dates = [str(int(year)) + \"-\" + str(int(month)) for year, month in zip(years, months)]\n",
    "\n",
    "# Convert to datetime objects\n",
    "test_dates = [dt.datetime.strptime(date, \"%Y-%m\") for date in test_dates]\n",
    "\n",
    "# Dataframe with predictions and dates\n",
    "predictions_data = pd.DataFrame(data = {\"date\": test_dates, \"prediction\": y_pred})"
   ]
  },
  {
   "cell_type": "code",
   "execution_count": 30,
   "metadata": {
    "colab": {
     "base_uri": "https://localhost:8080/",
     "height": 348
    },
    "id": "Cgs8gJylKfLy",
    "outputId": "3f509c29-f6b4-496f-a3a0-cafbe50d5faf"
   },
   "outputs": [
    {
     "data": {
      "image/png": "[encoded data removed]",
      "text/plain": [
       "<Figure size 432x288 with 1 Axes>"
      ]
     },
     "metadata": {},
     "output_type": "display_data"
    }
   ],
   "source": [
    "# Plot the actual values\n",
    "plt.plot(true_data[\"date\"], true_data['actual'], \"b-\", label = \"actual\")\n",
    "\n",
    "# Plot the predicted values\n",
    "plt.plot(predictions_data[\"date\"], predictions_data[\"prediction\"], \"ro\", label = \"prediction\")\n",
    "plt.xticks(rotation = \"60\"); \n",
    "plt.legend()\n",
    "\n",
    "# Graph labels\n",
    "plt.xlabel(\"Years\"); plt.ylabel(\"Prices\"); plt.title('Actual and Predicted Values');"
   ]
  },
  {
   "cell_type": "code",
   "execution_count": null,
   "metadata": {
    "id": "a6Eag6wQMT0L"
   },
   "outputs": [],
   "source": []
  }
 ],
 "metadata": {
  "colab": {
   "collapsed_sections": [],
   "name": "Random_Forest.ipynb",
   "provenance": []
  },
  "kernelspec": {
   "display_name": "Python 3 (ipykernel)",
   "language": "python",
   "name": "python3"
  },
  "language_info": {
   "codemirror_mode": {
    "name": "ipython",
    "version": 3
   },
   "file_extension": ".py",
   "mimetype": "text/x-python",
   "name": "python",
   "nbconvert_exporter": "python",
   "pygments_lexer": "ipython3",
   "version": "3.8.12"
  }
 },
 "nbformat": 4,
 "nbformat_minor": 1
}
